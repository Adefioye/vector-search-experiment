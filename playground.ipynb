{
 "cells": [
  {
   "cell_type": "code",
   "execution_count": 6,
   "id": "e5154de6",
   "metadata": {},
   "outputs": [
    {
     "name": "stderr",
     "output_type": "stream",
     "text": [
      "Some weights of the model checkpoint at nreimers/TinyBERT_L-6_H-768_v2 were not used when initializing BertModel: ['cls.predictions.bias', 'cls.predictions.decoder.weight', 'cls.predictions.transform.LayerNorm.bias', 'cls.predictions.transform.LayerNorm.weight', 'cls.predictions.transform.dense.bias', 'cls.predictions.transform.dense.weight', 'cls.seq_relationship.bias', 'cls.seq_relationship.weight', 'fit_denses.0.bias', 'fit_denses.0.weight', 'fit_denses.1.bias', 'fit_denses.1.weight', 'fit_denses.2.bias', 'fit_denses.2.weight', 'fit_denses.3.bias', 'fit_denses.3.weight', 'fit_denses.4.bias', 'fit_denses.4.weight', 'fit_denses.5.bias', 'fit_denses.5.weight', 'fit_denses.6.bias', 'fit_denses.6.weight']\n",
      "- This IS expected if you are initializing BertModel from the checkpoint of a model trained on another task or with another architecture (e.g. initializing a BertForSequenceClassification model from a BertForPreTraining model).\n",
      "- This IS NOT expected if you are initializing BertModel from the checkpoint of a model that you expect to be exactly identical (initializing a BertForSequenceClassification model from a BertForSequenceClassification model).\n"
     ]
    },
    {
     "name": "stdout",
     "output_type": "stream",
     "text": [
      "Model: nreimers/TinyBERT_L-6_H-768_v2\n",
      "Number of parameters: 66.96M\n"
     ]
    }
   ],
   "source": [
    "# Load the model from Hugging Face and compute number of parameters\n",
    "from transformers import AutoModel\n",
    "\n",
    "model_name = \"nreimers/TinyBERT_L-6_H-768_v2\"\n",
    "\n",
    "model = AutoModel.from_pretrained(model_name)\n",
    "# Divide the number of parameters by 1 million for easier readability\n",
    "def num_parameters(model):\n",
    "    return sum(p.numel() for p in model.parameters()) / 1_000_000\n",
    "\n",
    "print(f\"Model: {model_name}\")\n",
    "print(f\"Number of parameters: {num_parameters(model):.2f}M\")"
   ]
  },
  {
   "cell_type": "code",
   "execution_count": 7,
   "id": "a6b5528d",
   "metadata": {},
   "outputs": [
    {
     "name": "stderr",
     "output_type": "stream",
     "text": [
      "Some weights of the model checkpoint at nreimers/TinyBERT_L-4_H-312_v2 were not used when initializing BertModel: ['cls.predictions.bias', 'cls.predictions.decoder.weight', 'cls.predictions.transform.LayerNorm.bias', 'cls.predictions.transform.LayerNorm.weight', 'cls.predictions.transform.dense.bias', 'cls.predictions.transform.dense.weight', 'cls.seq_relationship.bias', 'cls.seq_relationship.weight', 'fit_denses.0.bias', 'fit_denses.0.weight', 'fit_denses.1.bias', 'fit_denses.1.weight', 'fit_denses.2.bias', 'fit_denses.2.weight', 'fit_denses.3.bias', 'fit_denses.3.weight', 'fit_denses.4.bias', 'fit_denses.4.weight']\n",
      "- This IS expected if you are initializing BertModel from the checkpoint of a model trained on another task or with another architecture (e.g. initializing a BertForSequenceClassification model from a BertForPreTraining model).\n",
      "- This IS NOT expected if you are initializing BertModel from the checkpoint of a model that you expect to be exactly identical (initializing a BertForSequenceClassification model from a BertForSequenceClassification model).\n"
     ]
    },
    {
     "name": "stdout",
     "output_type": "stream",
     "text": [
      "Model: nreimers/TinyBERT_L-4_H-312_v2\n",
      "Number of parameters: 14.35M\n"
     ]
    }
   ],
   "source": [
    "model_name = \"nreimers/TinyBERT_L-4_H-312_v2\"\n",
    "\n",
    "model = AutoModel.from_pretrained(model_name)\n",
    "\n",
    "print(f\"Model: {model_name}\")\n",
    "print(f\"Number of parameters: {num_parameters(model):.2f}M\")"
   ]
  },
  {
   "cell_type": "code",
   "execution_count": 8,
   "id": "fd318f39",
   "metadata": {},
   "outputs": [
    {
     "name": "stdout",
     "output_type": "stream",
     "text": [
      "Model: nreimers/MiniLM-L6-H384-uncased\n",
      "Number of parameters: 22.71M\n"
     ]
    }
   ],
   "source": [
    "model_name = \"nreimers/MiniLM-L6-H384-uncased\"\n",
    "\n",
    "model = AutoModel.from_pretrained(model_name)\n",
    "print(f\"Model: {model_name}\")\n",
    "print(f\"Number of parameters: {num_parameters(model):.2f}M\")\n"
   ]
  },
  {
   "cell_type": "code",
   "execution_count": 9,
   "id": "57c5745c",
   "metadata": {},
   "outputs": [
    {
     "name": "stdout",
     "output_type": "stream",
     "text": [
      "Model: microsoft/MiniLM-L12-H384-uncased\n",
      "Number of parameters: 33.36M\n"
     ]
    }
   ],
   "source": [
    "model_name = \"microsoft/MiniLM-L12-H384-uncased\"\n",
    "\n",
    "model = AutoModel.from_pretrained(model_name)\n",
    "print(f\"Model: {model_name}\")\n",
    "print(f\"Number of parameters: {num_parameters(model):.2f}M\")"
   ]
  },
  {
   "cell_type": "code",
   "execution_count": null,
   "id": "7852fe27",
   "metadata": {},
   "outputs": [],
   "source": [
    "# Write up list of datasets to consider\n",
    "datasets = [\n",
    "    \"scifact\",\n",
    "    \"arguana\",\n",
    "    \"nfcorpus\",\n",
    "    \"scidocs\",\n",
    "    \"fiqa\",\n",
    "    \"trec-covid\",\n",
    "    \"webis-touche2020\",\n",
    "    \"quora\",\n",
    "    ]\n",
    "\n",
    "# \"trec-news\", # Not sure if to include, no query length info on pylate\n",
    "# \"robust04\", # Not sure if to include, no query length info on pylate"
   ]
  },
  {
   "cell_type": "markdown",
   "id": "61e2eb05",
   "metadata": {},
   "source": [
    "## Evaluate on NanoBEIR datasets on sentence transformers library"
   ]
  },
  {
   "cell_type": "code",
   "execution_count": 9,
   "id": "675c494a",
   "metadata": {},
   "outputs": [
    {
     "name": "stderr",
     "output_type": "stream",
     "text": [
      "No sentence-transformers model found with name pinecone/ConstBERT. Creating a new one with mean pooling.\n",
      "                                                                        \r"
     ]
    }
   ],
   "source": [
    "from sentence_transformers import SentenceTransformer\n",
    "from sentence_transformers.evaluation import NanoBEIREvaluator\n",
    "\n",
    "# model = SentenceTransformer('answerdotai/ModernBERT-base')\n",
    "model = SentenceTransformer('pinecone/ConstBERT')\n",
    "\n",
    "# dataset_name_to_human_readable = {\n",
    "#     \"climatefever\": \"ClimateFEVER\",\n",
    "#     \"dbpedia\": \"DBPedia\",\n",
    "#     \"fever\": \"FEVER\",\n",
    "#     \"fiqa2018\": \"FiQA2018\",\n",
    "#     \"hotpotqa\": \"HotpotQA\",\n",
    "#     \"msmarco\": \"MSMARCO\",\n",
    "#     \"nfcorpus\": \"NFCorpus\",\n",
    "#     \"nq\": \"NQ\",\n",
    "#     \"quoraretrieval\": \"QuoraRetrieval\",\n",
    "#     \"scidocs\": \"SCIDOCS\",\n",
    "#     \"arguana\": \"ArguAna\",\n",
    "#     \"scifact\": \"SciFact\",\n",
    "#     \"touche2020\": \"Touche2020\",\n",
    "# }\n",
    "\n",
    "datasets = [\"QuoraRetrieval\", \"MSMARCO\"]\n",
    "query_prompts = {\n",
    "    \"QuoraRetrieval\": \"Instruct: Given a question, retrieve questions that are semantically equivalent to the given question\\\\nQuery: \",\n",
    "    \"Touche2020\": \"Instruct: Given a question, retrieve questions that are semantically equivalent to the given question\\\\nQuery: \",\n",
    "    \"NFCorpus\": \"Instruct: Given a question, retrieve questions that are semantically equivalent to the given question\\\\nQuery: \",\n",
    "    \"SciFact\": \"Instruct: Given a question, retrieve questions that are semantically equivalent to the given question\\\\nQuery: \",\n",
    "    \"ArguAna\": \"Instruct: Given a question, retrieve questions that are semantically equivalent to the given question\\\\nQuery: \",\n",
    "    \"SCIDOCS\": \"Instruct: Given a question, retrieve questions that are semantically equivalent to the given question\\\\nQuery: \",\n",
    "    \"FiQA2018\": \"Instruct: Given a question, retrieve questions that are semantically equivalent to the given question\\\\nQuery: \",\n",
    "    \"MSMARCO\": \"Instruct: Given a web search query, retrieve relevant passages that answer the query\\\\nQuery: \"\n",
    "    }\n",
    "\n",
    "evaluator = NanoBEIREvaluator(\n",
    "    dataset_names=datasets,\n",
    "    query_prompts=query_prompts,\n",
    "    )\n",
    "\n",
    "results = evaluator(model)"
   ]
  },
  {
   "cell_type": "code",
   "execution_count": 8,
   "id": "6d6c12ad",
   "metadata": {},
   "outputs": [
    {
     "name": "stdout",
     "output_type": "stream",
     "text": [
      "0.6165134596949706\n"
     ]
    }
   ],
   "source": [
    "print(results[evaluator.primary_metric])"
   ]
  },
  {
   "cell_type": "markdown",
   "id": "ad881df7",
   "metadata": {},
   "source": [
    "## Check tasks in Retrieval tasks on MTEB"
   ]
  },
  {
   "cell_type": "code",
   "execution_count": null,
   "id": "480f46e2",
   "metadata": {},
   "outputs": [
    {
     "ename": "KeyError",
     "evalue": "\"KeyError: 'Retrieval' not found. Did you mean: T2Retrieval?\"",
     "output_type": "error",
     "traceback": [
      "\u001b[0;31m---------------------------------------------------------------------------\u001b[0m",
      "\u001b[0;31mKeyError\u001b[0m                                  Traceback (most recent call last)",
      "Cell \u001b[0;32mIn[11], line 3\u001b[0m\n\u001b[1;32m      1\u001b[0m \u001b[38;5;28;01mimport\u001b[39;00m\u001b[38;5;250m \u001b[39m\u001b[38;5;21;01mmteb\u001b[39;00m\n\u001b[0;32m----> 3\u001b[0m tasks \u001b[38;5;241m=\u001b[39m \u001b[43mmteb\u001b[49m\u001b[38;5;241;43m.\u001b[39;49m\u001b[43mget_tasks\u001b[49m\u001b[43m(\u001b[49m\u001b[43mtasks\u001b[49m\u001b[38;5;241;43m=\u001b[39;49m\u001b[43m[\u001b[49m\u001b[38;5;124;43m\"\u001b[39;49m\u001b[38;5;124;43mRetrieval\u001b[39;49m\u001b[38;5;124;43m\"\u001b[39;49m\u001b[43m]\u001b[49m\u001b[43m)\u001b[49m\n\u001b[1;32m      4\u001b[0m tasks\n",
      "File \u001b[0;32m/opt/anaconda3/envs/vector-search/lib/python3.10/site-packages/mteb/overview.py:326\u001b[0m, in \u001b[0;36mget_tasks\u001b[0;34m(languages, script, domains, task_types, categories, tasks, exclude_superseded, eval_splits, exclusive_language_filter, modalities, exclusive_modality_filter, exclude_aggregate)\u001b[0m\n\u001b[1;32m    292\u001b[0m \u001b[38;5;250m\u001b[39m\u001b[38;5;124;03m\"\"\"Get a list of tasks based on the specified filters.\u001b[39;00m\n\u001b[1;32m    293\u001b[0m \n\u001b[1;32m    294\u001b[0m \u001b[38;5;124;03mArgs:\u001b[39;00m\n\u001b[0;32m   (...)\u001b[0m\n\u001b[1;32m    323\u001b[0m \u001b[38;5;124;03m    >>> get_tasks(tasks=[\"STS22\"], languages=[\"eng\"], exclusive_language_filter=True) # don't include multilingual subsets containing English\u001b[39;00m\n\u001b[1;32m    324\u001b[0m \u001b[38;5;124;03m\"\"\"\u001b[39;00m\n\u001b[1;32m    325\u001b[0m \u001b[38;5;28;01mif\u001b[39;00m tasks:\n\u001b[0;32m--> 326\u001b[0m     _tasks \u001b[38;5;241m=\u001b[39m [\n\u001b[1;32m    327\u001b[0m         get_task(\n\u001b[1;32m    328\u001b[0m             task,\n\u001b[1;32m    329\u001b[0m             languages,\n\u001b[1;32m    330\u001b[0m             script,\n\u001b[1;32m    331\u001b[0m             eval_splits\u001b[38;5;241m=\u001b[39meval_splits,\n\u001b[1;32m    332\u001b[0m             exclusive_language_filter\u001b[38;5;241m=\u001b[39mexclusive_language_filter,\n\u001b[1;32m    333\u001b[0m             modalities\u001b[38;5;241m=\u001b[39mmodalities,\n\u001b[1;32m    334\u001b[0m             exclusive_modality_filter\u001b[38;5;241m=\u001b[39mexclusive_modality_filter,\n\u001b[1;32m    335\u001b[0m         )\n\u001b[1;32m    336\u001b[0m         \u001b[38;5;28;01mfor\u001b[39;00m task \u001b[38;5;129;01min\u001b[39;00m tasks\n\u001b[1;32m    337\u001b[0m     ]\n\u001b[1;32m    338\u001b[0m     \u001b[38;5;28;01mreturn\u001b[39;00m MTEBTasks(_tasks)\n\u001b[1;32m    340\u001b[0m _tasks \u001b[38;5;241m=\u001b[39m [\n\u001b[1;32m    341\u001b[0m     \u001b[38;5;28mcls\u001b[39m()\u001b[38;5;241m.\u001b[39mfilter_languages(languages, script)\u001b[38;5;241m.\u001b[39mfilter_eval_splits(eval_splits)\n\u001b[1;32m    342\u001b[0m     \u001b[38;5;28;01mfor\u001b[39;00m \u001b[38;5;28mcls\u001b[39m \u001b[38;5;129;01min\u001b[39;00m create_task_list()\n\u001b[1;32m    343\u001b[0m ]\n",
      "File \u001b[0;32m/opt/anaconda3/envs/vector-search/lib/python3.10/site-packages/mteb/overview.py:327\u001b[0m, in \u001b[0;36m<listcomp>\u001b[0;34m(.0)\u001b[0m\n\u001b[1;32m    292\u001b[0m \u001b[38;5;250m\u001b[39m\u001b[38;5;124;03m\"\"\"Get a list of tasks based on the specified filters.\u001b[39;00m\n\u001b[1;32m    293\u001b[0m \n\u001b[1;32m    294\u001b[0m \u001b[38;5;124;03mArgs:\u001b[39;00m\n\u001b[0;32m   (...)\u001b[0m\n\u001b[1;32m    323\u001b[0m \u001b[38;5;124;03m    >>> get_tasks(tasks=[\"STS22\"], languages=[\"eng\"], exclusive_language_filter=True) # don't include multilingual subsets containing English\u001b[39;00m\n\u001b[1;32m    324\u001b[0m \u001b[38;5;124;03m\"\"\"\u001b[39;00m\n\u001b[1;32m    325\u001b[0m \u001b[38;5;28;01mif\u001b[39;00m tasks:\n\u001b[1;32m    326\u001b[0m     _tasks \u001b[38;5;241m=\u001b[39m [\n\u001b[0;32m--> 327\u001b[0m         \u001b[43mget_task\u001b[49m\u001b[43m(\u001b[49m\n\u001b[1;32m    328\u001b[0m \u001b[43m            \u001b[49m\u001b[43mtask\u001b[49m\u001b[43m,\u001b[49m\n\u001b[1;32m    329\u001b[0m \u001b[43m            \u001b[49m\u001b[43mlanguages\u001b[49m\u001b[43m,\u001b[49m\n\u001b[1;32m    330\u001b[0m \u001b[43m            \u001b[49m\u001b[43mscript\u001b[49m\u001b[43m,\u001b[49m\n\u001b[1;32m    331\u001b[0m \u001b[43m            \u001b[49m\u001b[43meval_splits\u001b[49m\u001b[38;5;241;43m=\u001b[39;49m\u001b[43meval_splits\u001b[49m\u001b[43m,\u001b[49m\n\u001b[1;32m    332\u001b[0m \u001b[43m            \u001b[49m\u001b[43mexclusive_language_filter\u001b[49m\u001b[38;5;241;43m=\u001b[39;49m\u001b[43mexclusive_language_filter\u001b[49m\u001b[43m,\u001b[49m\n\u001b[1;32m    333\u001b[0m \u001b[43m            \u001b[49m\u001b[43mmodalities\u001b[49m\u001b[38;5;241;43m=\u001b[39;49m\u001b[43mmodalities\u001b[49m\u001b[43m,\u001b[49m\n\u001b[1;32m    334\u001b[0m \u001b[43m            \u001b[49m\u001b[43mexclusive_modality_filter\u001b[49m\u001b[38;5;241;43m=\u001b[39;49m\u001b[43mexclusive_modality_filter\u001b[49m\u001b[43m,\u001b[49m\n\u001b[1;32m    335\u001b[0m \u001b[43m        \u001b[49m\u001b[43m)\u001b[49m\n\u001b[1;32m    336\u001b[0m         \u001b[38;5;28;01mfor\u001b[39;00m task \u001b[38;5;129;01min\u001b[39;00m tasks\n\u001b[1;32m    337\u001b[0m     ]\n\u001b[1;32m    338\u001b[0m     \u001b[38;5;28;01mreturn\u001b[39;00m MTEBTasks(_tasks)\n\u001b[1;32m    340\u001b[0m _tasks \u001b[38;5;241m=\u001b[39m [\n\u001b[1;32m    341\u001b[0m     \u001b[38;5;28mcls\u001b[39m()\u001b[38;5;241m.\u001b[39mfilter_languages(languages, script)\u001b[38;5;241m.\u001b[39mfilter_eval_splits(eval_splits)\n\u001b[1;32m    342\u001b[0m     \u001b[38;5;28;01mfor\u001b[39;00m \u001b[38;5;28mcls\u001b[39m \u001b[38;5;129;01min\u001b[39;00m create_task_list()\n\u001b[1;32m    343\u001b[0m ]\n",
      "File \u001b[0;32m/opt/anaconda3/envs/vector-search/lib/python3.10/site-packages/mteb/overview.py:422\u001b[0m, in \u001b[0;36mget_task\u001b[0;34m(task_name, languages, script, eval_splits, hf_subsets, exclusive_language_filter, modalities, exclusive_modality_filter)\u001b[0m\n\u001b[1;32m    418\u001b[0m     \u001b[38;5;28;01melse\u001b[39;00m:\n\u001b[1;32m    419\u001b[0m         suggestion \u001b[38;5;241m=\u001b[39m (\n\u001b[1;32m    420\u001b[0m             \u001b[38;5;124mf\u001b[39m\u001b[38;5;124m\"\u001b[39m\u001b[38;5;124mKeyError: \u001b[39m\u001b[38;5;124m'\u001b[39m\u001b[38;5;132;01m{\u001b[39;00mtask_name\u001b[38;5;132;01m}\u001b[39;00m\u001b[38;5;124m'\u001b[39m\u001b[38;5;124m not found and no similar keys were found.\u001b[39m\u001b[38;5;124m\"\u001b[39m\n\u001b[1;32m    421\u001b[0m         )\n\u001b[0;32m--> 422\u001b[0m     \u001b[38;5;28;01mraise\u001b[39;00m \u001b[38;5;167;01mKeyError\u001b[39;00m(suggestion)\n\u001b[1;32m    423\u001b[0m task \u001b[38;5;241m=\u001b[39m TASKS_REGISTRY[task_name]()\n\u001b[1;32m    424\u001b[0m \u001b[38;5;28;01mif\u001b[39;00m eval_splits:\n",
      "\u001b[0;31mKeyError\u001b[0m: \"KeyError: 'Retrieval' not found. Did you mean: T2Retrieval?\""
     ]
    }
   ],
   "source": [
    "import mteb\n",
    "\n",
    "# tasks = mteb.get_tasks(tasks=[\"Retrieval\"])\n",
    "# tasks"
   ]
  },
  {
   "cell_type": "markdown",
   "id": "e1e17b39",
   "metadata": {},
   "source": [
    "## Document results\n",
    "\n",
    "Mean NDCG@10\n",
    "- joe32140/ModernBERT-base-msmarco' (0.62)"
   ]
  },
  {
   "cell_type": "code",
   "execution_count": 5,
   "id": "ae0e738c",
   "metadata": {},
   "outputs": [
    {
     "name": "stdout",
     "output_type": "stream",
     "text": [
      "Model: kokolamba/ModernBERT-large-DPR-8e-05-CMNRL-minibs64\n",
      "Number of parameters: 394.78M\n"
     ]
    }
   ],
   "source": [
    "# Load the model from Hugging Face and compute number of parameters\n",
    "from transformers import AutoModel\n",
    "\n",
    "model_name = \"kokolamba/ModernBERT-large-DPR-8e-05-CMNRL-minibs64\"\n",
    "\n",
    "model = AutoModel.from_pretrained(model_name)\n",
    "# Divide the number of parameters by 1 million for easier readability\n",
    "def num_parameters(model):\n",
    "    return sum(p.numel() for p in model.parameters()) / 1_000_000\n",
    "\n",
    "print(f\"Model: {model_name}\")\n",
    "print(f\"Number of parameters: {num_parameters(model):.2f}M\")"
   ]
  },
  {
   "cell_type": "markdown",
   "id": "e453e8ac",
   "metadata": {},
   "source": [
    "## Number of parameters for some models\n",
    "\n",
    "- kokolamba/ConstBERT-DPR-8e-05-CMNRL-minibs128 (109.48M)\n",
    "- kokolamba/ModernBERT-base-DPR-8e-05-CMNRL-minibs16 (149.01M)\n",
    "- kokolamba/ModernBERT-base-DPR-8e-05-CMNRL-minibs128 (149.01M)\n",
    "- kokolamba/ModernBERT-large-DPR-8e-05-CMNRL-minibs64 (394.78M)"
   ]
  },
  {
   "cell_type": "code",
   "execution_count": null,
   "id": "01fc7b16",
   "metadata": {},
   "outputs": [],
   "source": [
    "## "
   ]
  }
 ],
 "metadata": {
  "kernelspec": {
   "display_name": "Python (vector-search)",
   "language": "python",
   "name": "vector-search"
  },
  "language_info": {
   "codemirror_mode": {
    "name": "ipython",
    "version": 3
   },
   "file_extension": ".py",
   "mimetype": "text/x-python",
   "name": "python",
   "nbconvert_exporter": "python",
   "pygments_lexer": "ipython3",
   "version": "3.10.18"
  }
 },
 "nbformat": 4,
 "nbformat_minor": 5
}
