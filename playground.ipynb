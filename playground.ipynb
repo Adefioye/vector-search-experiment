{
 "cells": [
  {
   "cell_type": "code",
   "execution_count": 6,
   "id": "e5154de6",
   "metadata": {},
   "outputs": [
    {
     "name": "stderr",
     "output_type": "stream",
     "text": [
      "Some weights of the model checkpoint at nreimers/TinyBERT_L-6_H-768_v2 were not used when initializing BertModel: ['cls.predictions.bias', 'cls.predictions.decoder.weight', 'cls.predictions.transform.LayerNorm.bias', 'cls.predictions.transform.LayerNorm.weight', 'cls.predictions.transform.dense.bias', 'cls.predictions.transform.dense.weight', 'cls.seq_relationship.bias', 'cls.seq_relationship.weight', 'fit_denses.0.bias', 'fit_denses.0.weight', 'fit_denses.1.bias', 'fit_denses.1.weight', 'fit_denses.2.bias', 'fit_denses.2.weight', 'fit_denses.3.bias', 'fit_denses.3.weight', 'fit_denses.4.bias', 'fit_denses.4.weight', 'fit_denses.5.bias', 'fit_denses.5.weight', 'fit_denses.6.bias', 'fit_denses.6.weight']\n",
      "- This IS expected if you are initializing BertModel from the checkpoint of a model trained on another task or with another architecture (e.g. initializing a BertForSequenceClassification model from a BertForPreTraining model).\n",
      "- This IS NOT expected if you are initializing BertModel from the checkpoint of a model that you expect to be exactly identical (initializing a BertForSequenceClassification model from a BertForSequenceClassification model).\n"
     ]
    },
    {
     "name": "stdout",
     "output_type": "stream",
     "text": [
      "Model: nreimers/TinyBERT_L-6_H-768_v2\n",
      "Number of parameters: 66.96M\n"
     ]
    }
   ],
   "source": [
    "# Load the model from Hugging Face and compute number of parameters\n",
    "from transformers import AutoModel\n",
    "\n",
    "model_name = \"nreimers/TinyBERT_L-6_H-768_v2\"\n",
    "\n",
    "model = AutoModel.from_pretrained(model_name)\n",
    "# Divide the number of parameters by 1 million for easier readability\n",
    "def num_parameters(model):\n",
    "    return sum(p.numel() for p in model.parameters()) / 1_000_000\n",
    "\n",
    "print(f\"Model: {model_name}\")\n",
    "print(f\"Number of parameters: {num_parameters(model):.2f}M\")"
   ]
  },
  {
   "cell_type": "code",
   "execution_count": 7,
   "id": "a6b5528d",
   "metadata": {},
   "outputs": [
    {
     "name": "stderr",
     "output_type": "stream",
     "text": [
      "Some weights of the model checkpoint at nreimers/TinyBERT_L-4_H-312_v2 were not used when initializing BertModel: ['cls.predictions.bias', 'cls.predictions.decoder.weight', 'cls.predictions.transform.LayerNorm.bias', 'cls.predictions.transform.LayerNorm.weight', 'cls.predictions.transform.dense.bias', 'cls.predictions.transform.dense.weight', 'cls.seq_relationship.bias', 'cls.seq_relationship.weight', 'fit_denses.0.bias', 'fit_denses.0.weight', 'fit_denses.1.bias', 'fit_denses.1.weight', 'fit_denses.2.bias', 'fit_denses.2.weight', 'fit_denses.3.bias', 'fit_denses.3.weight', 'fit_denses.4.bias', 'fit_denses.4.weight']\n",
      "- This IS expected if you are initializing BertModel from the checkpoint of a model trained on another task or with another architecture (e.g. initializing a BertForSequenceClassification model from a BertForPreTraining model).\n",
      "- This IS NOT expected if you are initializing BertModel from the checkpoint of a model that you expect to be exactly identical (initializing a BertForSequenceClassification model from a BertForSequenceClassification model).\n"
     ]
    },
    {
     "name": "stdout",
     "output_type": "stream",
     "text": [
      "Model: nreimers/TinyBERT_L-4_H-312_v2\n",
      "Number of parameters: 14.35M\n"
     ]
    }
   ],
   "source": [
    "model_name = \"nreimers/TinyBERT_L-4_H-312_v2\"\n",
    "\n",
    "model = AutoModel.from_pretrained(model_name)\n",
    "\n",
    "print(f\"Model: {model_name}\")\n",
    "print(f\"Number of parameters: {num_parameters(model):.2f}M\")"
   ]
  },
  {
   "cell_type": "code",
   "execution_count": 8,
   "id": "fd318f39",
   "metadata": {},
   "outputs": [
    {
     "name": "stdout",
     "output_type": "stream",
     "text": [
      "Model: nreimers/MiniLM-L6-H384-uncased\n",
      "Number of parameters: 22.71M\n"
     ]
    }
   ],
   "source": [
    "model_name = \"nreimers/MiniLM-L6-H384-uncased\"\n",
    "\n",
    "model = AutoModel.from_pretrained(model_name)\n",
    "print(f\"Model: {model_name}\")\n",
    "print(f\"Number of parameters: {num_parameters(model):.2f}M\")\n"
   ]
  },
  {
   "cell_type": "code",
   "execution_count": 9,
   "id": "57c5745c",
   "metadata": {},
   "outputs": [
    {
     "name": "stdout",
     "output_type": "stream",
     "text": [
      "Model: microsoft/MiniLM-L12-H384-uncased\n",
      "Number of parameters: 33.36M\n"
     ]
    }
   ],
   "source": [
    "model_name = \"microsoft/MiniLM-L12-H384-uncased\"\n",
    "\n",
    "model = AutoModel.from_pretrained(model_name)\n",
    "print(f\"Model: {model_name}\")\n",
    "print(f\"Number of parameters: {num_parameters(model):.2f}M\")"
   ]
  },
  {
   "cell_type": "code",
   "execution_count": null,
   "id": "7852fe27",
   "metadata": {},
   "outputs": [],
   "source": [
    "# Write up list of datasets to consider\n",
    "datasets = [\n",
    "    \"scifact\",\n",
    "    \"arguana\",\n",
    "    \"nfcorpus\",\n",
    "    \"scidocs\",\n",
    "    \"fiqa\",\n",
    "    \"trec-covid\",\n",
    "    \"webis-touche2020\",\n",
    "    \"quora\",\n",
    "    ]\n",
    "\n",
    "# \"trec-news\", # Not sure if to include, no query length info on pylate\n",
    "# \"robust04\", # Not sure if to include, no query length info on pylate"
   ]
  },
  {
   "cell_type": "markdown",
   "id": "61e2eb05",
   "metadata": {},
   "source": [
    "## Evaluate on NanoBEIR datasets on sentence transformers library"
   ]
  },
  {
   "cell_type": "code",
   "execution_count": 9,
   "id": "675c494a",
   "metadata": {},
   "outputs": [
    {
     "name": "stderr",
     "output_type": "stream",
     "text": [
      "No sentence-transformers model found with name pinecone/ConstBERT. Creating a new one with mean pooling.\n",
      "                                                                        \r"
     ]
    }
   ],
   "source": [
    "from sentence_transformers import SentenceTransformer\n",
    "from sentence_transformers.evaluation import NanoBEIREvaluator\n",
    "\n",
    "# model = SentenceTransformer('answerdotai/ModernBERT-base')\n",
    "model = SentenceTransformer('pinecone/ConstBERT')\n",
    "\n",
    "# dataset_name_to_human_readable = {\n",
    "#     \"climatefever\": \"ClimateFEVER\",\n",
    "#     \"dbpedia\": \"DBPedia\",\n",
    "#     \"fever\": \"FEVER\",\n",
    "#     \"fiqa2018\": \"FiQA2018\",\n",
    "#     \"hotpotqa\": \"HotpotQA\",\n",
    "#     \"msmarco\": \"MSMARCO\",\n",
    "#     \"nfcorpus\": \"NFCorpus\",\n",
    "#     \"nq\": \"NQ\",\n",
    "#     \"quoraretrieval\": \"QuoraRetrieval\",\n",
    "#     \"scidocs\": \"SCIDOCS\",\n",
    "#     \"arguana\": \"ArguAna\",\n",
    "#     \"scifact\": \"SciFact\",\n",
    "#     \"touche2020\": \"Touche2020\",\n",
    "# }\n",
    "\n",
    "datasets = [\"QuoraRetrieval\", \"MSMARCO\"]\n",
    "query_prompts = {\n",
    "    \"QuoraRetrieval\": \"Instruct: Given a question, retrieve questions that are semantically equivalent to the given question\\\\nQuery: \",\n",
    "    \"Touche2020\": \"Instruct: Given a question, retrieve questions that are semantically equivalent to the given question\\\\nQuery: \",\n",
    "    \"NFCorpus\": \"Instruct: Given a question, retrieve questions that are semantically equivalent to the given question\\\\nQuery: \",\n",
    "    \"SciFact\": \"Instruct: Given a question, retrieve questions that are semantically equivalent to the given question\\\\nQuery: \",\n",
    "    \"ArguAna\": \"Instruct: Given a question, retrieve questions that are semantically equivalent to the given question\\\\nQuery: \",\n",
    "    \"SCIDOCS\": \"Instruct: Given a question, retrieve questions that are semantically equivalent to the given question\\\\nQuery: \",\n",
    "    \"FiQA2018\": \"Instruct: Given a question, retrieve questions that are semantically equivalent to the given question\\\\nQuery: \",\n",
    "    \"MSMARCO\": \"Instruct: Given a web search query, retrieve relevant passages that answer the query\\\\nQuery: \"\n",
    "    }\n",
    "\n",
    "evaluator = NanoBEIREvaluator(\n",
    "    dataset_names=datasets,\n",
    "    query_prompts=query_prompts,\n",
    "    )\n",
    "\n",
    "results = evaluator(model)"
   ]
  },
  {
   "cell_type": "code",
   "execution_count": 8,
   "id": "6d6c12ad",
   "metadata": {},
   "outputs": [
    {
     "name": "stdout",
     "output_type": "stream",
     "text": [
      "0.6165134596949706\n"
     ]
    }
   ],
   "source": [
    "print(results[evaluator.primary_metric])"
   ]
  },
  {
   "cell_type": "markdown",
   "id": "e1e17b39",
   "metadata": {},
   "source": [
    "## Document results\n",
    "\n",
    "Mean NDCG@10\n",
    "- joe32140/ModernBERT-base-msmarco' (0.62)"
   ]
  },
  {
   "cell_type": "code",
   "execution_count": null,
   "id": "01fc7b16",
   "metadata": {},
   "outputs": [],
   "source": [
    "## "
   ]
  }
 ],
 "metadata": {
  "kernelspec": {
   "display_name": "Python (vector-search)",
   "language": "python",
   "name": "vector-search"
  },
  "language_info": {
   "codemirror_mode": {
    "name": "ipython",
    "version": 3
   },
   "file_extension": ".py",
   "mimetype": "text/x-python",
   "name": "python",
   "nbconvert_exporter": "python",
   "pygments_lexer": "ipython3",
   "version": "3.10.18"
  }
 },
 "nbformat": 4,
 "nbformat_minor": 5
}
